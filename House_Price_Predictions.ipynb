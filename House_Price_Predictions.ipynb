{
 "cells": [
  {
   "cell_type": "code",
   "execution_count": 1,
   "id": "22a44e11-7d4a-467a-963f-0208e60969f3",
   "metadata": {},
   "outputs": [],
   "source": [
    "import numpy as np\n",
    "import pandas as pd\n",
    "from sklearn.model_selection import train_test_split\n",
    "from sklearn.impute import SimpleImputer\n",
    "from sklearn.preprocessing import LabelEncoder\n",
    "from sklearn.ensemble import RandomForestRegressor\n",
    "from sklearn.metrics import mean_squared_error\n",
    "import xgboost as xgb\n"
   ]
  },
  {
   "cell_type": "code",
   "execution_count": 2,
   "id": "30a41b63-1b6a-4e29-be1f-7b5445322304",
   "metadata": {},
   "outputs": [],
   "source": [
    "train = pd.read_csv('D:/train.csv')\n",
    "test = pd.read_csv('D:/test.csv')"
   ]
  },
  {
   "cell_type": "code",
   "execution_count": 3,
   "id": "960a372d-101a-4c30-bf3c-192cd7bb8881",
   "metadata": {},
   "outputs": [],
   "source": [
    "# Combine train and test data for preprocessing\n",
    "all_data = pd.concat([train.drop('SalePrice', axis=1), test])"
   ]
  },
  {
   "cell_type": "code",
   "execution_count": 4,
   "id": "b3435964-48fe-42e3-84e1-d00716dec45e",
   "metadata": {},
   "outputs": [],
   "source": [
    "# Handle missing values\n",
    "all_data.fillna(np.nan, inplace=True)"
   ]
  },
  {
   "cell_type": "code",
   "execution_count": 5,
   "id": "be0b189b-74c0-43d1-956d-162cc0a5e080",
   "metadata": {},
   "outputs": [],
   "source": [
    "# Impute missing values for numerical features\n",
    "numerical_cols = all_data.select_dtypes(include=np.number).columns\n",
    "imputer = SimpleImputer(strategy='mean')\n",
    "all_data[numerical_cols] = imputer.fit_transform(all_data[numerical_cols])"
   ]
  },
  {
   "cell_type": "code",
   "execution_count": 6,
   "id": "b38c8bab-779f-4961-a771-2ec0aa9794b6",
   "metadata": {},
   "outputs": [],
   "source": [
    "# Impute missing values for categorical features\n",
    "categorical_cols = all_data.select_dtypes(exclude=np.number).columns\n",
    "imputer = SimpleImputer(strategy='most_frequent')\n",
    "all_data[categorical_cols] = imputer.fit_transform(all_data[categorical_cols])"
   ]
  },
  {
   "cell_type": "code",
   "execution_count": 7,
   "id": "80824cb8-ef47-4ce5-8a08-d7798e284ce1",
   "metadata": {},
   "outputs": [],
   "source": [
    "# Encode categorical features\n",
    "label_encoders = {}\n",
    "for col in categorical_cols:\n",
    "    label_encoders[col] = LabelEncoder()\n",
    "    all_data[col] = label_encoders[col].fit_transform(all_data[col])"
   ]
  },
  {
   "cell_type": "code",
   "execution_count": 8,
   "id": "14a7ec69-c296-404c-b1fa-b65e6309b7ae",
   "metadata": {},
   "outputs": [],
   "source": [
    "# Split back into train and test sets\n",
    "X_train = all_data[:len(train)]\n",
    "X_test = all_data[len(train):]\n",
    "y_train = train['SalePrice']"
   ]
  },
  {
   "cell_type": "code",
   "execution_count": 9,
   "id": "ba7a5f50-fa14-4d67-90fb-8c9b42c47795",
   "metadata": {},
   "outputs": [],
   "source": [
    "# Train-validation split\n",
    "X_train_split, X_val, y_train_split, y_val = train_test_split(X_train, y_train, test_size=0.2, random_state=42)\n"
   ]
  },
  {
   "cell_type": "code",
   "execution_count": 10,
   "id": "9875d26e-b530-4f39-b378-4484c5696511",
   "metadata": {},
   "outputs": [
    {
     "data": {
      "text/html": [
       "<style>#sk-container-id-1 {color: black;}#sk-container-id-1 pre{padding: 0;}#sk-container-id-1 div.sk-toggleable {background-color: white;}#sk-container-id-1 label.sk-toggleable__label {cursor: pointer;display: block;width: 100%;margin-bottom: 0;padding: 0.3em;box-sizing: border-box;text-align: center;}#sk-container-id-1 label.sk-toggleable__label-arrow:before {content: \"▸\";float: left;margin-right: 0.25em;color: #696969;}#sk-container-id-1 label.sk-toggleable__label-arrow:hover:before {color: black;}#sk-container-id-1 div.sk-estimator:hover label.sk-toggleable__label-arrow:before {color: black;}#sk-container-id-1 div.sk-toggleable__content {max-height: 0;max-width: 0;overflow: hidden;text-align: left;background-color: #f0f8ff;}#sk-container-id-1 div.sk-toggleable__content pre {margin: 0.2em;color: black;border-radius: 0.25em;background-color: #f0f8ff;}#sk-container-id-1 input.sk-toggleable__control:checked~div.sk-toggleable__content {max-height: 200px;max-width: 100%;overflow: auto;}#sk-container-id-1 input.sk-toggleable__control:checked~label.sk-toggleable__label-arrow:before {content: \"▾\";}#sk-container-id-1 div.sk-estimator input.sk-toggleable__control:checked~label.sk-toggleable__label {background-color: #d4ebff;}#sk-container-id-1 div.sk-label input.sk-toggleable__control:checked~label.sk-toggleable__label {background-color: #d4ebff;}#sk-container-id-1 input.sk-hidden--visually {border: 0;clip: rect(1px 1px 1px 1px);clip: rect(1px, 1px, 1px, 1px);height: 1px;margin: -1px;overflow: hidden;padding: 0;position: absolute;width: 1px;}#sk-container-id-1 div.sk-estimator {font-family: monospace;background-color: #f0f8ff;border: 1px dotted black;border-radius: 0.25em;box-sizing: border-box;margin-bottom: 0.5em;}#sk-container-id-1 div.sk-estimator:hover {background-color: #d4ebff;}#sk-container-id-1 div.sk-parallel-item::after {content: \"\";width: 100%;border-bottom: 1px solid gray;flex-grow: 1;}#sk-container-id-1 div.sk-label:hover label.sk-toggleable__label {background-color: #d4ebff;}#sk-container-id-1 div.sk-serial::before {content: \"\";position: absolute;border-left: 1px solid gray;box-sizing: border-box;top: 0;bottom: 0;left: 50%;z-index: 0;}#sk-container-id-1 div.sk-serial {display: flex;flex-direction: column;align-items: center;background-color: white;padding-right: 0.2em;padding-left: 0.2em;position: relative;}#sk-container-id-1 div.sk-item {position: relative;z-index: 1;}#sk-container-id-1 div.sk-parallel {display: flex;align-items: stretch;justify-content: center;background-color: white;position: relative;}#sk-container-id-1 div.sk-item::before, #sk-container-id-1 div.sk-parallel-item::before {content: \"\";position: absolute;border-left: 1px solid gray;box-sizing: border-box;top: 0;bottom: 0;left: 50%;z-index: -1;}#sk-container-id-1 div.sk-parallel-item {display: flex;flex-direction: column;z-index: 1;position: relative;background-color: white;}#sk-container-id-1 div.sk-parallel-item:first-child::after {align-self: flex-end;width: 50%;}#sk-container-id-1 div.sk-parallel-item:last-child::after {align-self: flex-start;width: 50%;}#sk-container-id-1 div.sk-parallel-item:only-child::after {width: 0;}#sk-container-id-1 div.sk-dashed-wrapped {border: 1px dashed gray;margin: 0 0.4em 0.5em 0.4em;box-sizing: border-box;padding-bottom: 0.4em;background-color: white;}#sk-container-id-1 div.sk-label label {font-family: monospace;font-weight: bold;display: inline-block;line-height: 1.2em;}#sk-container-id-1 div.sk-label-container {text-align: center;}#sk-container-id-1 div.sk-container {/* jupyter's `normalize.less` sets `[hidden] { display: none; }` but bootstrap.min.css set `[hidden] { display: none !important; }` so we also need the `!important` here to be able to override the default hidden behavior on the sphinx rendered scikit-learn.org. See: https://github.com/scikit-learn/scikit-learn/issues/21755 */display: inline-block !important;position: relative;}#sk-container-id-1 div.sk-text-repr-fallback {display: none;}</style><div id=\"sk-container-id-1\" class=\"sk-top-container\"><div class=\"sk-text-repr-fallback\"><pre>RandomForestRegressor(random_state=42)</pre><b>In a Jupyter environment, please rerun this cell to show the HTML representation or trust the notebook. <br />On GitHub, the HTML representation is unable to render, please try loading this page with nbviewer.org.</b></div><div class=\"sk-container\" hidden><div class=\"sk-item\"><div class=\"sk-estimator sk-toggleable\"><input class=\"sk-toggleable__control sk-hidden--visually\" id=\"sk-estimator-id-1\" type=\"checkbox\" checked><label for=\"sk-estimator-id-1\" class=\"sk-toggleable__label sk-toggleable__label-arrow\">RandomForestRegressor</label><div class=\"sk-toggleable__content\"><pre>RandomForestRegressor(random_state=42)</pre></div></div></div></div></div>"
      ],
      "text/plain": [
       "RandomForestRegressor(random_state=42)"
      ]
     },
     "execution_count": 10,
     "metadata": {},
     "output_type": "execute_result"
    }
   ],
   "source": [
    "# Train the model\n",
    "rf_model = RandomForestRegressor(random_state=42)\n",
    "rf_model.fit(X_train_split, y_train_split)\n"
   ]
  },
  {
   "cell_type": "code",
   "execution_count": 11,
   "id": "1dddbe81-d0bb-43e3-9423-92950a194d8e",
   "metadata": {},
   "outputs": [
    {
     "name": "stdout",
     "output_type": "stream",
     "text": [
      "Validation RMSE (Random Forest): 28694.968647990914\n"
     ]
    }
   ],
   "source": [
    "# Evaluate on validation set\n",
    "y_val_pred = rf_model.predict(X_val)\n",
    "rmse = np.sqrt(mean_squared_error(y_val, y_val_pred))\n",
    "print(\"Validation RMSE (Random Forest):\", rmse)"
   ]
  },
  {
   "cell_type": "code",
   "execution_count": 12,
   "id": "e9791c5a-6f5b-44c7-a489-87527e3e576c",
   "metadata": {},
   "outputs": [],
   "source": [
    "# Convert data to DMatrix format\n",
    "dtrain = xgb.DMatrix(X_train, label=y_train)\n",
    "dval = xgb.DMatrix(X_val, label=y_val)"
   ]
  },
  {
   "cell_type": "code",
   "execution_count": 13,
   "id": "96fdef93-a530-4edd-a897-003eaf7d2051",
   "metadata": {},
   "outputs": [],
   "source": [
    "# Train the model\n",
    "params = {'objective': 'reg:squarederror', 'eval_metric': 'rmse'}\n",
    "xgb_model = xgb.train(params, dtrain, num_boost_round=1000, evals=[(dval, 'validation')], early_stopping_rounds=10, verbose_eval=False)\n"
   ]
  },
  {
   "cell_type": "code",
   "execution_count": 14,
   "id": "cfc2d8db-cad0-4b8a-adbb-b36fca694357",
   "metadata": {},
   "outputs": [
    {
     "name": "stdout",
     "output_type": "stream",
     "text": [
      "Validation RMSE (XGBoost): 0.04144590937986076\n"
     ]
    }
   ],
   "source": [
    "# Evaluate on validation set\n",
    "y_val_pred_xgb = xgb_model.predict(dval)\n",
    "rmse_xgb = np.sqrt(mean_squared_error(y_val, y_val_pred_xgb))\n",
    "print(\"Validation RMSE (XGBoost):\", rmse_xgb)"
   ]
  },
  {
   "cell_type": "code",
   "execution_count": 15,
   "id": "650159ef-0f58-423d-aaf0-bfb426e71c13",
   "metadata": {},
   "outputs": [],
   "source": [
    "# Make predictions using the trained models\n",
    "test_predictions_rf = rf_model.predict(X_test)\n",
    "test_predictions_xgb = xgb_model.predict(xgb.DMatrix(X_test))\n"
   ]
  },
  {
   "cell_type": "code",
   "execution_count": 16,
   "id": "14e49bde-d776-4da0-9a97-551751c08566",
   "metadata": {},
   "outputs": [],
   "source": [
    "# Combine predictions from both models (you can also experiment with other ensemble methods)\n",
    "final_predictions = (test_predictions_rf + test_predictions_xgb) / 2"
   ]
  },
  {
   "cell_type": "code",
   "execution_count": 17,
   "id": "55bd392b-f395-49e8-9107-940ba8affddc",
   "metadata": {},
   "outputs": [],
   "source": [
    "# Create submission file\n",
    "submission_df = pd.DataFrame({'Id': test['Id'], 'SalePrice': final_predictions})\n",
    "submission_df.to_csv('submission.csv', index=False)"
   ]
  },
  {
   "cell_type": "code",
   "execution_count": null,
   "id": "1f5c1844-028a-471d-8b43-fa2d8e125bd6",
   "metadata": {},
   "outputs": [],
   "source": []
  }
 ],
 "metadata": {
  "kernelspec": {
   "display_name": "Python 3 (ipykernel)",
   "language": "python",
   "name": "python3"
  },
  "language_info": {
   "codemirror_mode": {
    "name": "ipython",
    "version": 3
   },
   "file_extension": ".py",
   "mimetype": "text/x-python",
   "name": "python",
   "nbconvert_exporter": "python",
   "pygments_lexer": "ipython3",
   "version": "3.12.1"
  }
 },
 "nbformat": 4,
 "nbformat_minor": 5
}
